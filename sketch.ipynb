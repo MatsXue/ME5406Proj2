{
 "cells": [
  {
   "cell_type": "code",
   "execution_count": 21,
   "metadata": {},
   "outputs": [
    {
     "name": "stdout",
     "output_type": "stream",
     "text": [
      "-51.34019174590991\n",
      "231.34019174590992\n"
     ]
    }
   ],
   "source": [
    "import math\n",
    "\n",
    "rob_vel=\n",
    "if rob_vel[1]== 0:\n",
    "    # in case atan will have no solutions\n",
    "    if rob_vel[0] >= 0:\n",
    "       rob_pos[2] = 0\n",
    "    else:\n",
    "        rob_pos[2] = math.pi\n",
    "else :\n",
    "    theta = math.atan(rob_vel[0]/rob_vel[1])\n",
    "    if rob_vel[1]> 0:\n",
    "        rob_pos[2] = theta\n",
    "    else:\n",
    "        rob_pos[2] = math.pi+theta"
   ]
  },
  {
   "cell_type": "code",
   "execution_count": 103,
   "metadata": {},
   "outputs": [
    {
     "name": "stdout",
     "output_type": "stream",
     "text": [
      "[(-130.500000000000, 39.3000000000000), (39.3000000000000, -130.500000000000)]\n",
      "0:00:00.040005\n",
      "0:00:00.000952\n",
      "39.29999999999999 -130.5 -130.5 39.29999999999999\n"
     ]
    }
   ],
   "source": [
    "from sympy import symbols, Eq, solve\n",
    "import math\n",
    "import datetime\n",
    "start_time=datetime.datetime.now()\n",
    "x,y = symbols('x y')\n",
    "eq1 = Eq(x*x+y*y-39.3*39.3-130.5*130.5)\n",
    "eq2 = Eq(x+y-39.3+130.5)\n",
    "a=solve((eq1,eq2),(x,y))\n",
    "end_time=datetime.datetime.now()\n",
    "\n",
    "print(a)\n",
    "print(end_time-start_time)\n",
    "\n",
    "start_time=datetime.datetime.now()\n",
    "a=+39.3*39.3+130.5*130.5\n",
    "b=39.3-130.5\n",
    "x1=(b+math.sqrt(a-b*b+a))/2\n",
    "y1=(b-math.sqrt(a-b*b+a))/2\n",
    "x2=(b-math.sqrt(a-b*b+a))/2\n",
    "y2=(b+math.sqrt(a-b*b+a))/2\n",
    "end_time=datetime.datetime.now()\n",
    "print(end_time-start_time)\n",
    "print(x1,y1,x2,y2)"
   ]
  },
  {
   "cell_type": "code",
   "execution_count": 21,
   "metadata": {},
   "outputs": [
    {
     "name": "stdout",
     "output_type": "stream",
     "text": [
      "well, it WASN'T defined after all!\n",
      "10\n"
     ]
    }
   ],
   "source": [
    "\n",
    "try:\n",
    "    c\n",
    "except NameError:\n",
    "    a=10\n",
    "    print(\"well, it WASN'T defined after all!\")\n",
    "else:\n",
    "    a=100\n",
    "    print(\"sure, it was defined.\")\n",
    "print(a)"
   ]
  },
  {
   "cell_type": "code",
   "execution_count": 1,
   "metadata": {},
   "outputs": [
    {
     "name": "stderr",
     "output_type": "stream",
     "text": [
      "D:\\Software\\Anaconda3\\envs\\Proj2\\lib\\site-packages\\pyglet\\image\\codecs\\wic.py:289: UserWarning: [WinError -2147417850] 无法在设置线程模式后对其加以更改。\n",
      "  warnings.warn(str(err))\n"
     ]
    }
   ],
   "source": [
    "import pyglet\n",
    "\n",
    "window = pyglet.window.Window()\n",
    "image = pyglet.resource.image('soccer.png')\n",
    "image.width=100\n",
    "image.height=100\n",
    "\n",
    "@window.event\n",
    "def render():\n",
    "    window.switch_to()\n",
    "    window.dispatch_events()\n",
    "    window.clear()\n",
    "    image.blit(0, 0)\n",
    "    window.flip()\n",
    "render()"
   ]
  },
  {
   "cell_type": "code",
   "execution_count": 29,
   "metadata": {},
   "outputs": [
    {
     "name": "stdout",
     "output_type": "stream",
     "text": [
      "{'property': {'name': 'bread'}}\n"
     ]
    },
    {
     "ename": "KeyError",
     "evalue": "'name'",
     "output_type": "error",
     "traceback": [
      "\u001b[1;31m---------------------------------------------------------------------------\u001b[0m",
      "\u001b[1;31mKeyError\u001b[0m                                  Traceback (most recent call last)",
      "\u001b[1;32m~\\AppData\\Local\\Temp/ipykernel_22100/1878199064.py\u001b[0m in \u001b[0;36m<module>\u001b[1;34m\u001b[0m\n\u001b[0;32m      6\u001b[0m \u001b[1;33m\u001b[0m\u001b[0m\n\u001b[0;32m      7\u001b[0m \u001b[0mprint\u001b[0m\u001b[1;33m(\u001b[0m\u001b[0mdict\u001b[0m\u001b[1;33m)\u001b[0m\u001b[1;33m\u001b[0m\u001b[1;33m\u001b[0m\u001b[0m\n\u001b[1;32m----> 8\u001b[1;33m \u001b[0mdict\u001b[0m\u001b[1;33m.\u001b[0m\u001b[0mpop\u001b[0m\u001b[1;33m(\u001b[0m\u001b[1;34m\"name\"\u001b[0m\u001b[1;33m)\u001b[0m\u001b[1;33m\u001b[0m\u001b[1;33m\u001b[0m\u001b[0m\n\u001b[0m\u001b[0;32m      9\u001b[0m \u001b[0mprint\u001b[0m\u001b[1;33m(\u001b[0m\u001b[0mdict\u001b[0m\u001b[1;33m)\u001b[0m\u001b[1;33m\u001b[0m\u001b[1;33m\u001b[0m\u001b[0m\n",
      "\u001b[1;31mKeyError\u001b[0m: 'name'"
     ]
    }
   ],
   "source": [
    "dict={\n",
    "    \"property\":{\n",
    "        \"name\":\"bread\"\n",
    "    }\n",
    "}\n",
    "\n",
    "print(dict)\n",
    "dict.pop(\"name\")\n",
    "print(dict)"
   ]
  },
  {
   "cell_type": "code",
   "execution_count": 13,
   "metadata": {},
   "outputs": [
    {
     "name": "stdout",
     "output_type": "stream",
     "text": [
      "1\n",
      "1\n"
     ]
    }
   ],
   "source": [
    "b=1\n",
    "class haha():\n",
    "    \n",
    "    def __init__(self):\n",
    "        self.a = 0\n",
    "    def ha(self):\n",
    "        global b\n",
    "        print(b)\n",
    "\n",
    "def c():\n",
    "    print(b)  \n",
    "ha=haha()\n",
    "ha.ha()\n",
    "c()"
   ]
  }
 ],
 "metadata": {
  "interpreter": {
   "hash": "013e14385176bd85ba545a4d3a8adbf54641b86d6d97f83d29db9c2848e85d1c"
  },
  "kernelspec": {
   "display_name": "Python 3.7.11 64-bit ('Proj2': conda)",
   "name": "python3"
  },
  "language_info": {
   "codemirror_mode": {
    "name": "ipython",
    "version": 3
   },
   "file_extension": ".py",
   "mimetype": "text/x-python",
   "name": "python",
   "nbconvert_exporter": "python",
   "pygments_lexer": "ipython3",
   "version": "3.7.11"
  },
  "orig_nbformat": 4
 },
 "nbformat": 4,
 "nbformat_minor": 2
}
